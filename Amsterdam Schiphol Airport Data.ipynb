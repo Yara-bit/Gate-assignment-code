{
 "cells": [
  {
   "cell_type": "code",
   "execution_count": 2,
   "id": "523bc086-fdca-471f-af2c-1da12963ae1d",
   "metadata": {},
   "outputs": [
    {
     "name": "stdout",
     "output_type": "stream",
     "text": [
      "Request failed at page 245: 204\n",
      "\n",
      "Done. 4897 flights saved to: C:\\Users\\yao\\schiphol_flights_2025-08-01.csv\n"
     ]
    }
   ],
   "source": [
    "import requests\n",
    "import csv\n",
    "import os\n",
    "\n",
    "# Authentication\n",
    "app_id = \"c6240510\"\n",
    "app_key = \"119694d58027bbb42f87fe1914d67368\"\n",
    "\n",
    "# Base URL and headers\n",
    "url = \"https://api.schiphol.nl/public-flights/flights\"\n",
    "headers = {\n",
    "    \"Accept\": \"application/json\",\n",
    "    \"app_id\": app_id,\n",
    "    \"app_key\": app_key,\n",
    "    \"resourceversion\": \"v4\"\n",
    "}\n",
    "\n",
    "# Use fixed date (August 1st, 2025)\n",
    "target_date = \"2025-08-01\"\n",
    "\n",
    "# Output file\n",
    "file_name = f\"schiphol_flights_{target_date}.csv\"\n",
    "file_path = os.path.abspath(file_name)\n",
    "\n",
    "# Open CSV file\n",
    "with open(file_name, \"w\", newline=\"\", encoding=\"utf-8\") as csvfile:\n",
    "    writer = csv.writer(csvfile)\n",
    "    writer.writerow([\"Flight Number\", \"Airline\", \"Status\", \"Scheduled Time\", \"Gate\", \"Stand\", \"Terminal\"])\n",
    "\n",
    "    page = 0\n",
    "    total_flights = 0\n",
    "\n",
    "    while True:\n",
    "        params = {\n",
    "            \"includedelays\": \"false\",\n",
    "            \"sort\": \"+scheduleTime\",\n",
    "            \"page\": page,\n",
    "            \"scheduleDate\": target_date\n",
    "        }\n",
    "\n",
    "        response = requests.get(url, headers=headers, params=params)\n",
    "        if response.status_code != 200:\n",
    "            print(f\"Request failed at page {page}: {response.status_code}\")\n",
    "            break\n",
    "\n",
    "        data = response.json()\n",
    "        flights = data.get(\"flights\", [])\n",
    "        if not flights:\n",
    "            break  # No more flights\n",
    "\n",
    "        for f in flights:\n",
    "            writer.writerow([\n",
    "                f.get(\"flightName\", \"\"),\n",
    "                f.get(\"airline\", {}).get(\"name\", \"\"),\n",
    "                \",\".join(f.get(\"publicFlightState\", {}).get(\"flightStates\", [])),\n",
    "                f.get(\"scheduleDateTime\", \"\"),\n",
    "                f.get(\"gate\", \"\"),\n",
    "                f.get(\"aircraftStand\", \"\"),\n",
    "                f.get(\"terminal\", \"\")\n",
    "            ])\n",
    "        total_flights += len(flights)\n",
    "        page += 1\n",
    "\n",
    "print(f\"\\nDone. {total_flights} flights saved to: {file_path}\")"
   ]
  },
  {
   "cell_type": "code",
   "execution_count": null,
   "id": "e4c952e7-e96a-447d-9af3-2bb679185bf2",
   "metadata": {},
   "outputs": [],
   "source": []
  }
 ],
 "metadata": {
  "kernelspec": {
   "display_name": "Python [conda env:base] *",
   "language": "python",
   "name": "conda-base-py"
  },
  "language_info": {
   "codemirror_mode": {
    "name": "ipython",
    "version": 3
   },
   "file_extension": ".py",
   "mimetype": "text/x-python",
   "name": "python",
   "nbconvert_exporter": "python",
   "pygments_lexer": "ipython3",
   "version": "3.12.3"
  }
 },
 "nbformat": 4,
 "nbformat_minor": 5
}
